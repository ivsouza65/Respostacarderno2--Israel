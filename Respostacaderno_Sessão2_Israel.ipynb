{
  "nbformat": 4,
  "nbformat_minor": 0,
  "metadata": {
    "colab": {
      "provenance": []
    },
    "kernelspec": {
      "name": "python3",
      "display_name": "Python 3"
    },
    "language_info": {
      "name": "python"
    }
  },
  "cells": [
    {
      "cell_type": "code",
      "execution_count": null,
      "metadata": {
        "colab": {
          "base_uri": "https://localhost:8080/"
        },
        "id": "zFmHDQMxzBAI",
        "outputId": "b8ee0f3b-e0de-49dc-e797-a48ef989e838"
      },
      "outputs": [
        {
          "output_type": "stream",
          "name": "stdout",
          "text": [
            "Digite sua idade: 10\n",
            "Você é menor de idade!\n"
          ]
        }
      ],
      "source": [
        "# Crie uma variável 'idade' e atribua a ela um valor inteiro\n",
        "idade = int(input(\"Digite sua idade: \"))\n",
        "\n",
        "# Verifique se a idade é maior ou igual a 18\n",
        "if idade >= 18:\n",
        "    print(\"Você é maior de idade!\")\n",
        "else:\n",
        "    print(\"Você é menor de idade!\")"
      ]
    },
    {
      "cell_type": "code",
      "source": [
        "nota = float(input(\"Digite a nota do aluno: \"))\n",
        "\n",
        "if nota <=5:\n",
        "    print(\"O aluno está reprovado!\")\n",
        "elif nota <=10:\n",
        "    print(\"O aluno está aprovado!\")\n",
        "else:\n",
        "    print(\"Digite um número entre 0 e 10!\")"
      ],
      "metadata": {
        "colab": {
          "base_uri": "https://localhost:8080/"
        },
        "id": "lAdlOZsg0dgZ",
        "outputId": "abe656d7-5f9a-4f01-d28f-60011c234d05"
      },
      "execution_count": null,
      "outputs": [
        {
          "output_type": "stream",
          "name": "stdout",
          "text": [
            "Digite a nota do aluno: 11\n",
            "Digite um número entre 0 e 10!\n"
          ]
        }
      ]
    },
    {
      "cell_type": "code",
      "source": [
        "numero = int(input(\"Digite um número: \"))\n",
        "\n",
        "if numero >0:\n",
        "    print(\"Positivo\")\n",
        "elif numero<0:\n",
        "    print(\"Negativo\")\n",
        "else:\n",
        "    print(\"Zero\")\n"
      ],
      "metadata": {
        "colab": {
          "base_uri": "https://localhost:8080/"
        },
        "id": "kXZWVakN3FGp",
        "outputId": "302925bb-a9ff-42b6-a376-795339c4146f"
      },
      "execution_count": null,
      "outputs": [
        {
          "output_type": "stream",
          "name": "stdout",
          "text": [
            "Digite um número: 0\n",
            "nulo\n"
          ]
        }
      ]
    },
    {
      "cell_type": "code",
      "source": [
        "num1 = int(input(\"Digite o primeiro número: \"))\n",
        "num2 = int(input(\"Digite o segundo número: \"))\n",
        "\n",
        "if num1>num2:\n",
        "  print(f\"O {num1} é maior que {num2} \")\n",
        "else:\n",
        "  print(f\"O {num2} é maior que {num1}\")"
      ],
      "metadata": {
        "colab": {
          "base_uri": "https://localhost:8080/"
        },
        "id": "Tns51r-EnJ67",
        "outputId": "abb0bf0b-4b5e-4933-825b-7df3a1f7a364"
      },
      "execution_count": null,
      "outputs": [
        {
          "output_type": "stream",
          "name": "stdout",
          "text": [
            "Digite o primeiro número: 5\n",
            "Digite o segundo número: 10\n",
            "O 10 é maior que 5\n"
          ]
        }
      ]
    },
    {
      "cell_type": "code",
      "source": [
        "# Criando a variável 'operacao' com a string da operação desejada\n",
        "operacao = input(\"Escolha uma das operações: +, -, *, /: \")\n",
        "\n",
        "# Definindo dois números para a operação\n",
        "numero1 = int(input(\"Digite o número: \"))\n",
        "numero2 = int(input(\"Digite mais um número: \"))\n",
        "# Executando a operação com base na string da variável 'operacao'\n",
        "\n",
        "if operacao == \"+\":\n",
        "    resultado = numero1 + numero2\n",
        "elif operacao == \"-\":\n",
        "    resultado = numero1 - numero2\n",
        "elif operacao == \"*\":\n",
        "    resultado = numero1 * numero2\n",
        "elif operacao == \"/\":\n",
        "    resultado = numero1 / numero2\n",
        "else:\n",
        "    print(\"Operação inválida. Escolha entre '+', '-', '*', ou '/'\")\n",
        "\n",
        "# Exibindo o resultado\n",
        "print(f\"Resultado da operação {numero1} {operacao} {numero2} é = {resultado}\")\n"
      ],
      "metadata": {
        "colab": {
          "base_uri": "https://localhost:8080/"
        },
        "id": "OA4U6o7OqM1b",
        "outputId": "44df4b7c-ef0e-4411-9ff7-88f08227eb74"
      },
      "execution_count": null,
      "outputs": [
        {
          "output_type": "stream",
          "name": "stdout",
          "text": [
            "Escolha uma das operações: +, -, *, /: /\n",
            "Digite o número: 10\n",
            "Digite mais um número: 2\n",
            "Resultado da operação 10 / 2 e: 5.0\n"
          ]
        }
      ]
    },
    {
      "cell_type": "code",
      "source": [],
      "metadata": {
        "id": "XBEMsrdFz-Ds"
      },
      "execution_count": null,
      "outputs": []
    },
    {
      "cell_type": "code",
      "source": [
        "numero_digitado = int(input(\"Digite um número: \"))\n",
        "\n",
        "if numero_digitado > 0 and numero_digitado % 2 == 0:\n",
        "    print(f\"O número {numero_digitado} é par e positivo.\")\n",
        "elif numero_digitado < 0:\n",
        "    print(f\"O número {numero_digitado} não é par e negativo\")\n",
        "else:\n",
        "    print(f\"O número {numero_digitado} não é par e positivo.\")\n",
        "\n"
      ],
      "metadata": {
        "colab": {
          "base_uri": "https://localhost:8080/"
        },
        "id": "OIxNMjmVtCqR",
        "outputId": "ab0c359a-ad2f-4c4a-8f45-672444d28ea2"
      },
      "execution_count": null,
      "outputs": [
        {
          "output_type": "stream",
          "name": "stdout",
          "text": [
            "Digite um número: -10\n",
            "O número -10 não é par e negativo, O número -10 e par e negativo \n"
          ]
        }
      ]
    },
    {
      "cell_type": "code",
      "source": [
        "numero_digitado = int(input(\"Digite um número: \"))\n",
        "\n",
        "if numero_digitado > 0 and numero_digitado % 2 == 0:\n",
        "    print(f\"O número {numero_digitado} é par e positivo.\")\n",
        "elif numero_digitado < 0 and numero_digitado % 2 == 0:\n",
        "    print(f\"O número {numero_digitado} é par e negativo.\")\n",
        "else:\n",
        "    print(f\"O número {numero_digitado} não atende às condições (par e positivo ou par e negativo).\")\n"
      ],
      "metadata": {
        "id": "GaFtw_Jy7CQB"
      },
      "execution_count": null,
      "outputs": []
    },
    {
      "cell_type": "code",
      "source": [
        "idade_digitada = int(input(\"Digite sua idade: \"))\n",
        "if idade_digitada <= 12:\n",
        "    resultado = \"Criança\"\n",
        "elif 13 <= idade_digitada <= 17:\n",
        "    resultado = \"Adolescente\"\n",
        "else:\n",
        "    resultado = \"Adulto\"\n",
        "\n",
        "print(f\"Você é classificado como: {resultado}\")\n"
      ],
      "metadata": {
        "colab": {
          "base_uri": "https://localhost:8080/"
        },
        "id": "nfoZixFOuyjU",
        "outputId": "43876c70-6629-4248-ff4f-0b2f78b119c4"
      },
      "execution_count": null,
      "outputs": [
        {
          "output_type": "stream",
          "name": "stdout",
          "text": [
            "Digite sua idade: 12\n",
            "Você é classificado como: Criança\n"
          ]
        }
      ]
    }
  ]
}