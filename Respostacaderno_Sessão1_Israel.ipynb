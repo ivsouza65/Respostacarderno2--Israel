{
  "nbformat": 4,
  "nbformat_minor": 0,
  "metadata": {
    "colab": {
      "provenance": []
    },
    "kernelspec": {
      "name": "python3",
      "display_name": "Python 3"
    },
    "language_info": {
      "name": "python"
    }
  },
  "cells": [
    {
      "cell_type": "code",
      "execution_count": null,
      "metadata": {
        "colab": {
          "base_uri": "https://localhost:8080/"
        },
        "id": "oTPSB_N4nh0e",
        "outputId": "7e57532d-1e22-4c83-bb44-0840655607dd"
      },
      "outputs": [
        {
          "output_type": "stream",
          "name": "stdout",
          "text": [
            "Olá, mundo!\n"
          ]
        }
      ],
      "source": [
        "print(\"Olá, mundo!\")"
      ]
    },
    {
      "cell_type": "code",
      "source": [
        "nome = \"Maria\"\n",
        "print(nome)"
      ],
      "metadata": {
        "colab": {
          "base_uri": "https://localhost:8080/"
        },
        "id": "0j0yfRBLou2K",
        "outputId": "07ae78e2-8114-4793-9df7-22b2853263e5"
      },
      "execution_count": null,
      "outputs": [
        {
          "output_type": "stream",
          "name": "stdout",
          "text": [
            "Maria\n"
          ]
        }
      ]
    },
    {
      "cell_type": "code",
      "source": [
        "# Solicita ao usuário que insira um número\n",
        "numero = int(input(\"Insira um número: \"))\n",
        "\n",
        "# Imprime o tipo da variável 'numero'\n",
        "print(f\"O tipo da variável 'numero' é: {type(numero)}\")\n"
      ],
      "metadata": {
        "colab": {
          "base_uri": "https://localhost:8080/"
        },
        "id": "Tx7_m604qmik",
        "outputId": "487e9a0d-155f-4f9b-ba8c-65e79470ea58"
      },
      "execution_count": null,
      "outputs": [
        {
          "output_type": "stream",
          "name": "stdout",
          "text": [
            "Insira um número: 10\n",
            "O tipo da variável 'numero' é: <class 'int'>\n"
          ]
        }
      ]
    },
    {
      "cell_type": "code",
      "source": [
        "A = 10\n",
        "B = 5\n",
        "\n",
        "print(A+B)\n",
        "print(A*B)\n",
        "print(A-B)\n",
        "print(A/B)"
      ],
      "metadata": {
        "colab": {
          "base_uri": "https://localhost:8080/"
        },
        "id": "_kmJ_MA1sRt8",
        "outputId": "ae919dde-3a53-4f17-9f71-128bd6e67ed3"
      },
      "execution_count": null,
      "outputs": [
        {
          "output_type": "stream",
          "name": "stdout",
          "text": [
            "15\n",
            "50\n",
            "5\n",
            "2.0\n"
          ]
        }
      ]
    },
    {
      "cell_type": "code",
      "source": [
        "num1 = int(input(\"Digite o primeiro número \"))\n",
        "num2 = int(input(\"Digite o segunto número \"))\n",
        "\n",
        "soma= num1 + num2\n",
        "\n",
        "print(soma)"
      ],
      "metadata": {
        "colab": {
          "base_uri": "https://localhost:8080/"
        },
        "id": "45M3OnwptX25",
        "outputId": "fcd63207-255b-4301-d4bb-fcaa5edc5ec2"
      },
      "execution_count": null,
      "outputs": [
        {
          "output_type": "stream",
          "name": "stdout",
          "text": [
            "Digite o primeiro número 10\n",
            "Digite o segunto número 50\n",
            "60\n"
          ]
        }
      ]
    },
    {
      "cell_type": "code",
      "source": [
        "# Crie uma variável 'idade' e atribua a ela um valor inteiro\n",
        "idade = int(input(\"Digite sua idade: \"))\n",
        "\n",
        "# Verifique se a idade é maior ou igual a 18\n",
        "if idade >= 18:\n",
        "    print(\"Você é maior de idade!\")\n",
        "else:\n",
        "    print(\"Você é menor de idade!\")\n"
      ],
      "metadata": {
        "colab": {
          "base_uri": "https://localhost:8080/"
        },
        "id": "d0VSvEyivBo-",
        "outputId": "abd8fe40-ebb1-4e10-8280-17f2920720e8"
      },
      "execution_count": null,
      "outputs": [
        {
          "output_type": "stream",
          "name": "stdout",
          "text": [
            "Digite sua idade: 19\n",
            "Você é maior de idade!\n"
          ]
        }
      ]
    },
    {
      "cell_type": "code",
      "source": [
        "# Solicita ao usuário que insira um número e armazena na variável 'numero'\n",
        "numero = int(input(\"Digite um número inteiro: \"))\n",
        "\n",
        "# Verifica se o número é par ou ímpar\n",
        "if numero % 2 == 0:\n",
        "    print(\"O número é par.\")\n",
        "else:\n",
        "    print(\"O número é ímpar.\")\n"
      ],
      "metadata": {
        "colab": {
          "base_uri": "https://localhost:8080/"
        },
        "id": "-6MX40uRvqzx",
        "outputId": "d2f0174a-42df-4084-f4fb-ffee72181b8d"
      },
      "execution_count": null,
      "outputs": [
        {
          "output_type": "stream",
          "name": "stdout",
          "text": [
            "Digite um número inteiro: 5\n",
            "O número é ímpar.\n"
          ]
        }
      ]
    },
    {
      "cell_type": "code",
      "source": [
        "# Crie uma variável 'idade' e atribua a ela um valor inteiro\n",
        "idade = int(input(\"Digite sua idade: \"))\n",
        "\n",
        "# Verifique se a idade é maior ou igual a 18\n",
        "if idade < 18:\n",
        "    print(\"Você está na puberdade!\")\n",
        "elif idade <=65:\n",
        "    print(\"Você está no alge da juventude!\")\n",
        "else:\n",
        "    print(\"Você está idoso!\")"
      ],
      "metadata": {
        "colab": {
          "base_uri": "https://localhost:8080/"
        },
        "id": "gfwy8p57xQrJ",
        "outputId": "89b073b9-85e9-4157-f6fc-43ac8281da1f"
      },
      "execution_count": null,
      "outputs": [
        {
          "output_type": "stream",
          "name": "stdout",
          "text": [
            "Digite sua idade: 18\n",
            "Você está no alge da juventude!\n"
          ]
        }
      ]
    }
  ]
}