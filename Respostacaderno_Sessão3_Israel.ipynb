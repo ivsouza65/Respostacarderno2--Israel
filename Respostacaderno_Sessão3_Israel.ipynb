{
  "nbformat": 4,
  "nbformat_minor": 0,
  "metadata": {
    "colab": {
      "provenance": []
    },
    "kernelspec": {
      "name": "python3",
      "display_name": "Python 3"
    },
    "language_info": {
      "name": "python"
    }
  },
  "cells": [
    {
      "cell_type": "code",
      "execution_count": null,
      "metadata": {
        "colab": {
          "base_uri": "https://localhost:8080/"
        },
        "id": "1zvHT5u1wfYD",
        "outputId": "f10211a2-5141-42ee-fb6b-86643866851d"
      },
      "outputs": [
        {
          "output_type": "stream",
          "name": "stdout",
          "text": [
            "O resultado da expressão é: -32.5\n"
          ]
        }
      ],
      "source": [
        "# Avaliação da expressão matemática\n",
        "resultado = (2 + 3) * 4 - 5 / 2 * (2 + 3) * 4 - 5 / 2\n",
        "\n",
        "# Exibindo o resultado\n",
        "print(f\"O resultado da expressão é: {resultado}\")\n"
      ]
    },
    {
      "cell_type": "code",
      "source": [
        "# Criando a variável base e atribuindo o valor 2\n",
        "base = 2\n",
        "\n",
        "# Elevando a base ao quadrado\n",
        "resultado = base ** 2\n",
        "\n",
        "# Exibindo o resultado\n",
        "print(f\"O resultado de {base} elevado ao quadrado é {resultado}.\")\n"
      ],
      "metadata": {
        "colab": {
          "base_uri": "https://localhost:8080/"
        },
        "id": "1JElcXGm0DVs",
        "outputId": "a8f28ebf-eb51-4d69-e7d6-163bfde6ee51"
      },
      "execution_count": null,
      "outputs": [
        {
          "output_type": "stream",
          "name": "stdout",
          "text": [
            "O resultado de 2 elevado ao quadrado é 4.\n"
          ]
        }
      ]
    },
    {
      "cell_type": "code",
      "source": [
        "# Calculando a área de um círculo com raio igual a 5\n",
        "import math\n",
        "\n",
        "raio = 5\n",
        "area = math.pi * raio**2\n",
        "\n",
        "print(f\"A área do círculo com raio {raio} é aproximadamente {area:.2f} unidades de área.\")\n"
      ],
      "metadata": {
        "colab": {
          "base_uri": "https://localhost:8080/"
        },
        "id": "cXShXaMzy4l8",
        "outputId": "3e8bbc3d-584e-4201-c887-2b148a0fec82"
      },
      "execution_count": null,
      "outputs": [
        {
          "output_type": "stream",
          "name": "stdout",
          "text": [
            "A área do círculo com raio 5 é aproximadamente 78.54 unidades de área.\n"
          ]
        }
      ]
    },
    {
      "cell_type": "code",
      "source": [],
      "metadata": {
        "id": "nD_bJxjgzjab"
      },
      "execution_count": null,
      "outputs": []
    }
  ]
}